{
 "metadata": {
  "name": "",
  "signature": "sha256:b9a053374f3200e0057668dd3d22b0aa962884f7d67fab2442611640cc718740"
 },
 "nbformat": 3,
 "nbformat_minor": 0,
 "worksheets": [
  {
   "cells": [
    {
     "cell_type": "code",
     "collapsed": false,
     "input": [
      "#download illumina chip files\n",
      "url = 'http://www.ebi.ac.uk/arrayexpress/files/A-GEOD-8882/A-GEOD-8882.adf.txt'\n",
      "! wget --no-verbose --timestamping --directory-prefix download {url}\n",
      "url = 'http://www.ebi.ac.uk/arrayexpress/files/A-GEOD-6434/A-GEOD-6434.adf.txt'\n",
      "! wget --no-verbose --timestamping --directory-prefix download {url}\n",
      "url = 'http://www.ebi.ac.uk/arrayexpress/files/A-AFFY-107/A-AFFY-107.adf.txt'\n",
      "! wget --no-verbose --timestamping --directory-prefix download {url}\n",
      "url = 'http://www.ebi.ac.uk/arrayexpress/files/A-AFFY-72/A-AFFY-72.adf.txt'\n",
      "! wget --no-verbose --timestamping --directory-prefix download {url}"
     ],
     "language": "python",
     "metadata": {},
     "outputs": [],
     "prompt_number": 9
    },
    {
     "cell_type": "code",
     "collapsed": false,
     "input": [
      "#Illumina HumanHap550 Platform: https://www.ebi.ac.uk/arrayexpress/arrays/A-GEOD-6434/\n",
      "humanhap550 = set([])\n",
      "hh550_fh = open(\"download/A-GEOD-6434.adf.txt\")\n",
      "for line in hh550_fh:\n",
      "    if line.startswith('rs'):\n",
      "        toks = line.strip().split('\\t')\n",
      "        humanhap550.add(toks[1])\n",
      "hh550_fh.close()\n",
      "\n",
      "print(str(len(humanhap550)) + \" SNPs with rs#s on HH550\")\n",
      "o_fh = open(\"data/hh550-snp-for-bed.txt\", 'w')\n",
      "o_fh.write('\\n'.join(humanhap550))\n",
      "o_fh.close()"
     ],
     "language": "python",
     "metadata": {},
     "outputs": [
      {
       "output_type": "stream",
       "stream": "stdout",
       "text": [
        "561303 SNPs with rs#s on HH550\n"
       ]
      }
     ],
     "prompt_number": 10
    },
    {
     "cell_type": "code",
     "collapsed": false,
     "input": [
      "#Illumina HumanOmni1-Quad: https://www.ebi.ac.uk/arrayexpress/arrays/A-GEOD-8882/\n",
      "\n",
      "humanomni1 = set([])\n",
      "omni1_fh = open(\"download/A-GEOD-8882.adf.txt\")\n",
      "for line in omni1_fh:\n",
      "    if line.startswith('rs'):\n",
      "        toks = line.strip().split('\\t')\n",
      "        humanomni1.add(toks[1])\n",
      "omni1_fh.close()\n",
      "\n",
      "print(str(len(humanomni1)) + \" SNPs with rs#s on HOmni1\")\n",
      "o_fh = open(\"data/ho1-snp-for-bed.txt\", 'w')\n",
      "o_fh.write('\\n'.join(humanomni1))\n",
      "o_fh.close()"
     ],
     "language": "python",
     "metadata": {},
     "outputs": [
      {
       "output_type": "stream",
       "stream": "stdout",
       "text": [
        "970342 SNPs with rs#s on HOmni1\n"
       ]
      }
     ],
     "prompt_number": 11
    },
    {
     "cell_type": "code",
     "collapsed": false,
     "input": [
      "#Affy 500k Array set is made up of 2 arrays (Sty and Nsp)\n",
      "#Sty Array: https://www.ebi.ac.uk/arrayexpress/arrays/A-AFFY-72/\n",
      "#Nsp Array: https://www.ebi.ac.uk/arrayexpress/arrays/A-AFFY-107/\n",
      "affy500 = set([])\n",
      "\n",
      "affySty_fh = open(\"download/A-AFFY-72.adf.txt\")\n",
      "for line in affySty_fh:\n",
      "    toks = line.strip().split('\\t')\n",
      "    if len(toks) > 3:\n",
      "        if toks[2].startswith('rs'):\n",
      "            affy500.add(toks[2])\n",
      "affySty_fh.close()\n",
      "\n",
      "affyNsp_fh = open(\"download/A-AFFY-107.adf.txt\")\n",
      "for line in affyNsp_fh:\n",
      "    toks = line.strip().split('\\t')\n",
      "    if len(toks) > 3:\n",
      "        if toks[3].startswith('rs'):\n",
      "            affy500.add(toks[3])\n",
      "affyNsp_fh.close()\n",
      "\n",
      "print(str(len(affy500)) + \" SNPs with rs#s on Affy500k\")\n",
      "o_fh = open(\"data/affy500-snp-for-bed.txt\", 'w')\n",
      "o_fh.write('\\n'.join(affy500))\n",
      "o_fh.close()"
     ],
     "language": "python",
     "metadata": {},
     "outputs": [
      {
       "output_type": "stream",
       "stream": "stdout",
       "text": [
        "497531 SNPs with rs#s on Affy500k\n"
       ]
      }
     ],
     "prompt_number": 12
    },
    {
     "cell_type": "markdown",
     "metadata": {},
     "source": [
      "Follow instructions at http://www.gettinggeneticsdone.com/2011/06/mapping-snps-to-genes-for-gwas.html to get a BED file. Use GRCh37/hg19 and dbSNP Common SNPs(142). Name the downloaded files bed-hh550.bed, bed-ho1.bed, and bed-affy500.bed. Move each of these files to \"data/\""
     ]
    },
    {
     "cell_type": "code",
     "collapsed": false,
     "input": [
      "#Download Entrez mappings.\n",
      "url = 'http://files.figshare.com/230645/entrez.txt'\n",
      "! wget --no-verbose --timestamping --directory-prefix download {url}\n",
      "\n",
      "# add chr to the front to match the UCSC files\n",
      "! sed 's/^/chr/' download/entrez.txt > download/chr_entrez.txt"
     ],
     "language": "python",
     "metadata": {},
     "outputs": [],
     "prompt_number": 13
    },
    {
     "cell_type": "code",
     "collapsed": false,
     "input": [
      "# Count the overlaps\n",
      "! windowBed -w 10000 -c -a download/chr_entrez.txt -b data/bed-hh550.bed > data/hh550-entrez.bed\n",
      "! windowBed -w 10000 -c -a download/chr_entrez.txt -b data/bed-ho1.bed > data/ho1-entrez.bed\n",
      "! windowBed -w 10000 -c -a download/chr_entrez.txt -b data/bed-affy500.bed > data/affy500-entrez.bed\n"
     ],
     "language": "python",
     "metadata": {},
     "outputs": [
      {
       "output_type": "stream",
       "stream": "stdout",
       "text": [
        "Error: The requested file (data/bed-affy500.bed) could not be opened. Error message: (No such file or directory). Exiting!\r\n"
       ]
      }
     ],
     "prompt_number": 14
    },
    {
     "cell_type": "code",
     "collapsed": false,
     "input": [],
     "language": "python",
     "metadata": {},
     "outputs": [
      {
       "output_type": "stream",
       "stream": "stdout",
       "text": [
        "It looks as though you have less than 3 columns at line: 1.  Are you sure your files are tab-delimited?\r\n"
       ]
      }
     ],
     "prompt_number": 1
    },
    {
     "cell_type": "code",
     "collapsed": false,
     "input": [],
     "language": "python",
     "metadata": {},
     "outputs": []
    }
   ],
   "metadata": {}
  }
 ]
}