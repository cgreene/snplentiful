{
 "metadata": {
  "name": ""
 },
 "nbformat": 3,
 "nbformat_minor": 0,
 "worksheets": [
  {
   "cells": [
    {
     "cell_type": "code",
     "collapsed": false,
     "input": [
      "#download illumina chip files\n",
      "url = 'http://www.ebi.ac.uk/arrayexpress/files/A-GEOD-8882/A-GEOD-8882.adf.txt'\n",
      "! wget --no-verbose --timestamping --directory-prefix download {url}\n",
      "url = 'http://www.ebi.ac.uk/arrayexpress/files/A-GEOD-6434/A-GEOD-6434.adf.txt'\n",
      "! wget --no-verbose --timestamping --directory-prefix download {url}"
     ],
     "language": "python",
     "metadata": {},
     "outputs": [
      {
       "output_type": "stream",
       "stream": "stdout",
       "text": [
        "2015-08-16 16:48:07 URL:http://www.ebi.ac.uk/arrayexpress/files/A-GEOD-8882/A-GEOD-8882.adf.txt [24316605/24316605] -> \"download/A-GEOD-8882.adf.txt\" [1]\r\n"
       ]
      },
      {
       "output_type": "stream",
       "stream": "stdout",
       "text": [
        "2015-08-16 16:54:05 URL:http://www.ebi.ac.uk/arrayexpress/files/A-GEOD-6434/A-GEOD-6434.adf.txt [24862681/24862681] -> \"download/A-GEOD-6434.adf.txt\" [1]\r\n"
       ]
      }
     ],
     "prompt_number": 1
    },
    {
     "cell_type": "code",
     "collapsed": false,
     "input": [
      "import mysql.connector\n",
      "\n",
      "cnx = mysql.connector.connect(user='genome', database='hg19', host='genome-mysql.cse.ucsc.edu')\n",
      "cursor = cnx.cursor()\n",
      "\n",
      "query = (\"SELECT K.proteinID, S.name FROM snp142 AS S \"\n",
      "         \"left join knownGene as K on \"\n",
      "         \"(S.chrom=K.chrom and not(K.txEnd+5000<S.chromStart or S.chromEnd+5000<K.txStart)) \"\n",
      "         \"WHERE S.name IN (%s)\")\n",
      "\n",
      "args = ['rs252', 'rs25']\n",
      "in_p=', '.join(map(lambda x: '%s', args))\n",
      "query = query % in_p\n",
      "cursor.execute(query, args)\n",
      "\n",
      "for (protein, snp) in cursor:\n",
      "    print(snp)\n",
      "    print(protein)\n"
     ],
     "language": "python",
     "metadata": {},
     "outputs": [
      {
       "output_type": "stream",
       "stream": "stdout",
       "text": [
        "rs25\n",
        "Q9UPZ6\n",
        "rs25\n",
        "Q9UPZ6\n",
        "rs252\n",
        "P06858\n"
       ]
      }
     ],
     "prompt_number": 15
    },
    {
     "cell_type": "code",
     "collapsed": false,
     "input": [],
     "language": "python",
     "metadata": {},
     "outputs": []
    }
   ],
   "metadata": {}
  }
 ]
}